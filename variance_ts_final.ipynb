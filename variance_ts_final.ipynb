{
 "cells": [
  {
   "cell_type": "code",
   "execution_count": 1,
   "metadata": {},
   "outputs": [],
   "source": [
    "from pyspark.sql import SparkSession\n",
    "from pyspark.sql.functions import sum, avg, count, variance"
   ]
  },
  {
   "cell_type": "code",
   "execution_count": 2,
   "metadata": {},
   "outputs": [],
   "source": [
    "from pylab import plot,show\n",
    "from numpy import vstack,array\n",
    "from numpy.random import rand\n",
    "import numpy as np\n",
    "from scipy.cluster.vq import kmeans,vq\n",
    "import pandas as pd\n",
    "from math import sqrt\n",
    "from sklearn.cluster import KMeans\n",
    "from matplotlib import pyplot as plt\n",
    "import seaborn as sns"
   ]
  },
  {
   "cell_type": "code",
   "execution_count": 3,
   "metadata": {},
   "outputs": [],
   "source": [
    "import numpy as np\n",
    "\n",
    "from sklearn.cluster import DBSCAN\n",
    "from sklearn import metrics\n",
    "from sklearn.datasets.samples_generator import make_blobs\n",
    "from sklearn.preprocessing import StandardScaler"
   ]
  },
  {
   "cell_type": "code",
   "execution_count": 4,
   "metadata": {},
   "outputs": [],
   "source": [
    "AVG_THRESHOLD = 100"
   ]
  },
  {
   "cell_type": "code",
   "execution_count": 5,
   "metadata": {},
   "outputs": [],
   "source": [
    "# build session\n",
    "sess = SparkSession.builder.master(\"local[*]\").appName(\"mmds_variance\").getOrCreate()"
   ]
  },
  {
   "cell_type": "code",
   "execution_count": 6,
   "metadata": {},
   "outputs": [
    {
     "name": "stdout",
     "output_type": "stream",
     "text": [
      "+-------+------------+--------+\n",
      "|page_id|sum_requests|    date|\n",
      "+-------+------------+--------+\n",
      "|1004636|           4|20180604|\n",
      "|  10047|           9|20180604|\n",
      "| 100558|           1|20180604|\n",
      "|1006869|          18|20180604|\n",
      "|1020848|          10|20180604|\n",
      "|1024090|           1|20180604|\n",
      "|1024361|          10|20180604|\n",
      "|1028339|           1|20180604|\n",
      "|1032921|           5|20180604|\n",
      "|1034448|          18|20180604|\n",
      "|1036234|           8|20180604|\n",
      "|  10442|           2|20180604|\n",
      "|1056640|           1|20180604|\n",
      "| 105796|           3|20180604|\n",
      "|1058285|           1|20180604|\n",
      "|1058918|           3|20180604|\n",
      "| 106005|           6|20180604|\n",
      "|1062730|           3|20180604|\n",
      "|1063095|           1|20180604|\n",
      "|1074139|           2|20180604|\n",
      "+-------+------------+--------+\n",
      "only showing top 20 rows\n",
      "\n"
     ]
    }
   ],
   "source": [
    "# read parquet file\n",
    "df = sess.read.parquet(\"./pageviews.parquet\")\n",
    "df.show()"
   ]
  },
  {
   "cell_type": "code",
   "execution_count": 7,
   "metadata": {},
   "outputs": [
    {
     "name": "stdout",
     "output_type": "stream",
     "text": [
      "+-------+--------+--------+\n",
      "|page_id|    date|requests|\n",
      "+-------+--------+--------+\n",
      "|1669234|20180604|       7|\n",
      "|1727288|20180604|      18|\n",
      "|2013910|20180604|       1|\n",
      "| 275114|20180604|       2|\n",
      "| 737525|20180604|      10|\n",
      "| 172258|20180604|       4|\n",
      "| 232856|20180604|       1|\n",
      "| 252865|20180604|       1|\n",
      "|2550523|20180604|      14|\n",
      "| 492633|20180604|       2|\n",
      "| 971412|20180604|       1|\n",
      "|1597569|20180604|       2|\n",
      "|1860179|20180604|       1|\n",
      "| 186125|20180604|       3|\n",
      "|2111667|20180604|       3|\n",
      "|1975015|20180604|       1|\n",
      "|2595191|20180604|       1|\n",
      "| 729839|20180604|       2|\n",
      "|2599654|20180604|       1|\n",
      "|2601461|20180604|       3|\n",
      "+-------+--------+--------+\n",
      "only showing top 20 rows\n",
      "\n"
     ]
    }
   ],
   "source": [
    "# group by date\n",
    "ds = df.groupBy(\"page_id\", \"date\").agg(sum(\"sum_requests\").alias(\"requests\"))\n",
    "ds.show()"
   ]
  },
  {
   "cell_type": "code",
   "execution_count": 8,
   "metadata": {},
   "outputs": [
    {
     "name": "stdout",
     "output_type": "stream",
     "text": [
      "+-------+-------------------+-----+------------------+\n",
      "|page_id|           variance|count|               avg|\n",
      "+-------+-------------------+-----+------------------+\n",
      "|1272822|  6.540259740259741|   56|3.5714285714285716|\n",
      "|2722148|                0.0|    3|               1.0|\n",
      "|1121576|0.22727272727272727|   22|1.3181818181818181|\n",
      "|1562879|0.08333333333333333|   12|1.0833333333333333|\n",
      "|1888146| 238.93879781420762|   61| 16.37704918032787|\n",
      "|2008079|  5.683226183518411|   59|4.1525423728813555|\n",
      "|2110941|                NaN|    1|               1.0|\n",
      "|2733774|  7.558461538461541|   26|1.9615384615384615|\n",
      "| 369423|  3.804521276595744|   48|            2.9375|\n",
      "|  81549| 0.2666666666666667|    6|1.3333333333333333|\n",
      "|  12394|  7.989168413696715|   54| 3.537037037037037|\n",
      "|1493528|  1.683712121212121|   33|1.9393939393939394|\n",
      "|1727469|                0.0|   10|               1.0|\n",
      "|2274194|                0.0|    3|               1.0|\n",
      "| 447127| 11.545295149035649|   59|6.1525423728813555|\n",
      "|1742175| 0.9685897435897437|   40|             1.825|\n",
      "|1836142| 1.2923076923076926|   40|               1.7|\n",
      "|2522689|  7.252543940795559|   47|2.5531914893617023|\n",
      "| 338246| 0.7380952380952379|   22|               1.5|\n",
      "| 501953| 118.45027322404373|   61|13.819672131147541|\n",
      "+-------+-------------------+-----+------------------+\n",
      "only showing top 20 rows\n",
      "\n"
     ]
    }
   ],
   "source": [
    "# group requests by page_id and compute variance, count and avg\n",
    "vari = ds.groupBy(\"page_id\").agg(variance(\"requests\").alias(\"variance\"), count(\"date\").alias(\"count\"),  avg(\"requests\").alias(\"avg\"))\n",
    "vari.show()"
   ]
  },
  {
   "cell_type": "code",
   "execution_count": 9,
   "metadata": {},
   "outputs": [
    {
     "data": {
      "text/plain": [
       "755673"
      ]
     },
     "execution_count": 9,
     "metadata": {},
     "output_type": "execute_result"
    }
   ],
   "source": [
    "# take a look at the number of rows\n",
    "vari.count()"
   ]
  },
  {
   "cell_type": "code",
   "execution_count": 10,
   "metadata": {},
   "outputs": [],
   "source": [
    "max_count = vari.agg({\"count\": \"max\"}).collect()[0].asDict()['max(count)']"
   ]
  },
  {
   "cell_type": "code",
   "execution_count": 11,
   "metadata": {},
   "outputs": [
    {
     "data": {
      "text/plain": [
       "61"
      ]
     },
     "execution_count": 11,
     "metadata": {},
     "output_type": "execute_result"
    }
   ],
   "source": [
    "max_count"
   ]
  },
  {
   "cell_type": "code",
   "execution_count": 12,
   "metadata": {},
   "outputs": [
    {
     "name": "stdout",
     "output_type": "stream",
     "text": [
      "+-------+------------------+-----+------------------+\n",
      "|page_id|          variance|count|               avg|\n",
      "+-------+------------------+-----+------------------+\n",
      "| 348286|15.339344262294935|   61| 293.8360655737705|\n",
      "|2560908|368.74590163934425|   61|110.59016393442623|\n",
      "|2615953| 619.4448087431697|   61|120.70491803278688|\n",
      "| 535221| 645.3043715846995|   61|109.72131147540983|\n",
      "|2204198| 645.3043715846995|   61|109.72131147540983|\n",
      "| 334485|  775.563387978142|   61|100.73770491803279|\n",
      "|2673689| 775.5633879781421|   61|100.73770491803279|\n",
      "| 268344| 862.5989071038254|   61| 102.0327868852459|\n",
      "| 250851| 891.0830601092896|   61|103.01639344262296|\n",
      "|  36061| 917.7486338797814|   61| 131.5737704918033|\n",
      "| 845354| 917.7486338797816|   61| 131.5737704918033|\n",
      "|  25716| 917.7486338797818|   61| 131.5737704918033|\n",
      "|  23021| 972.7043715846991|   61|102.27868852459017|\n",
      "|1048374| 972.7043715846993|   61|102.27868852459017|\n",
      "| 526117| 972.7043715846995|   61|102.27868852459017|\n",
      "|1734695|1002.2967213114752|   61|100.73770491803279|\n",
      "| 776413|1002.2967213114753|   61|100.73770491803279|\n",
      "|2383741|1002.2967213114755|   61|100.73770491803279|\n",
      "|  39405|1002.2967213114756|   61|100.73770491803279|\n",
      "|  36825| 1101.649726775956|   61|104.98360655737704|\n",
      "+-------+------------------+-----+------------------+\n",
      "only showing top 20 rows\n",
      "\n"
     ]
    }
   ],
   "source": [
    "result = vari.filter(\"count >= \" + str(max_count)).filter(\"avg >= \" + str(AVG_THRESHOLD)).orderBy(vari.variance.asc())\n",
    "result.show()"
   ]
  },
  {
   "cell_type": "code",
   "execution_count": 13,
   "metadata": {},
   "outputs": [
    {
     "name": "stdout",
     "output_type": "stream",
     "text": [
      "root\n",
      " |-- page_id: string (nullable = true)\n",
      " |-- page_namespace: string (nullable = true)\n",
      " |-- title: string (nullable = true)\n",
      " |-- page_restrictions: string (nullable = true)\n",
      " |-- page_counter: string (nullable = true)\n",
      " |-- page_is_redirect: string (nullable = true)\n",
      " |-- page_is_new: string (nullable = true)\n",
      " |-- page_random: string (nullable = true)\n",
      " |-- page_touched: string (nullable = true)\n",
      " |-- page_links_updated: string (nullable = true)\n",
      " |-- page_latest: string (nullable = true)\n",
      " |-- page_len: string (nullable = true)\n",
      " |-- page_no_title_convert: string (nullable = true)\n",
      " |-- page_content_model: string (nullable = true)\n",
      " |-- page_lang: string (nullable = true)\n",
      "\n"
     ]
    }
   ],
   "source": [
    "# read ukwiki-20180701-page for title field\n",
    "df_page = sess.read.format(\"csv\").option(\"header\", \"true\").load(\"./data/page/ukwiki-20180701-page.csv\")\n",
    "df_page.printSchema()"
   ]
  },
  {
   "cell_type": "code",
   "execution_count": 14,
   "metadata": {},
   "outputs": [],
   "source": [
    "# let's join two dataframes (for adding title field)\n",
    "result_with_title = result.join(df_page, \"page_id\")"
   ]
  },
  {
   "cell_type": "markdown",
   "metadata": {},
   "source": [
    "### Final pyspark DataFrame"
   ]
  },
  {
   "cell_type": "code",
   "execution_count": 15,
   "metadata": {},
   "outputs": [
    {
     "name": "stdout",
     "output_type": "stream",
     "text": [
      "+-------+--------------------+------------------+\n",
      "|page_id|               title|          variance|\n",
      "+-------+--------------------+------------------+\n",
      "| 348286|              Пропан|15.339344262294935|\n",
      "|2560908|  Кіновсесвіт_Marvel|368.74590163934425|\n",
      "|2615953|Список_померлих_2...| 619.4448087431697|\n",
      "|2204198|Список_українськи...| 645.3043715846995|\n",
      "| 535221|Список_українськи...| 645.3043715846995|\n",
      "| 334485|             Ukr.net|  775.563387978142|\n",
      "|2673689|             Ukr.net| 775.5633879781421|\n",
      "| 268344|Вікіпедія:Патрулю...| 862.5989071038254|\n",
      "| 250851|            Чернівці| 891.0830601092896|\n",
      "|  36061|     Українська_мова| 917.7486338797814|\n",
      "| 845354|     Українська_мова| 917.7486338797816|\n",
      "|  25716|     Українська_мова| 917.7486338797818|\n",
      "|  23021|              Харків| 972.7043715846991|\n",
      "|1048374|              Харків| 972.7043715846993|\n",
      "| 526117|              Харків| 972.7043715846995|\n",
      "|1734695|             Вінниця|1002.2967213114752|\n",
      "| 776413|             Вінниця|1002.2967213114753|\n",
      "|2383741|             Вінниця|1002.2967213114755|\n",
      "|  39405|             Вінниця|1002.2967213114756|\n",
      "|  36825|Бандера_Степан_Ан...| 1101.649726775956|\n",
      "+-------+--------------------+------------------+\n",
      "only showing top 20 rows\n",
      "\n"
     ]
    }
   ],
   "source": [
    "fnl = result_with_title.select(\"page_id\", \"title\", \"variance\").orderBy(result_with_title.variance.asc())\n",
    "fnl.show()"
   ]
  },
  {
   "cell_type": "code",
   "execution_count": 16,
   "metadata": {},
   "outputs": [],
   "source": [
    "# write to csv\n",
    "fnl.coalesce(1).write.mode(\"overwrite\").format(\"com.databricks.spark.csv\").option(\"header\", \"true\").csv(\"./ranking.csv\")"
   ]
  },
  {
   "cell_type": "markdown",
   "metadata": {},
   "source": [
    "### Pandas "
   ]
  },
  {
   "cell_type": "code",
   "execution_count": 17,
   "metadata": {},
   "outputs": [],
   "source": [
    "result_pd = result.toPandas()"
   ]
  },
  {
   "cell_type": "code",
   "execution_count": 18,
   "metadata": {},
   "outputs": [
    {
     "data": {
      "text/plain": [
       "(158, 4)"
      ]
     },
     "execution_count": 18,
     "metadata": {},
     "output_type": "execute_result"
    }
   ],
   "source": [
    "result_pd.shape"
   ]
  },
  {
   "cell_type": "code",
   "execution_count": 19,
   "metadata": {},
   "outputs": [
    {
     "data": {
      "text/html": [
       "<div>\n",
       "<style scoped>\n",
       "    .dataframe tbody tr th:only-of-type {\n",
       "        vertical-align: middle;\n",
       "    }\n",
       "\n",
       "    .dataframe tbody tr th {\n",
       "        vertical-align: top;\n",
       "    }\n",
       "\n",
       "    .dataframe thead th {\n",
       "        text-align: right;\n",
       "    }\n",
       "</style>\n",
       "<table border=\"1\" class=\"dataframe\">\n",
       "  <thead>\n",
       "    <tr style=\"text-align: right;\">\n",
       "      <th></th>\n",
       "      <th>variance</th>\n",
       "      <th>count</th>\n",
       "      <th>avg</th>\n",
       "    </tr>\n",
       "  </thead>\n",
       "  <tbody>\n",
       "    <tr>\n",
       "      <th>count</th>\n",
       "      <td>1.580000e+02</td>\n",
       "      <td>158.0</td>\n",
       "      <td>158.000000</td>\n",
       "    </tr>\n",
       "    <tr>\n",
       "      <th>mean</th>\n",
       "      <td>2.181506e+05</td>\n",
       "      <td>61.0</td>\n",
       "      <td>312.160510</td>\n",
       "    </tr>\n",
       "    <tr>\n",
       "      <th>std</th>\n",
       "      <td>1.083617e+06</td>\n",
       "      <td>0.0</td>\n",
       "      <td>867.899709</td>\n",
       "    </tr>\n",
       "    <tr>\n",
       "      <th>min</th>\n",
       "      <td>1.533934e+01</td>\n",
       "      <td>61.0</td>\n",
       "      <td>100.737705</td>\n",
       "    </tr>\n",
       "    <tr>\n",
       "      <th>25%</th>\n",
       "      <td>2.353158e+03</td>\n",
       "      <td>61.0</td>\n",
       "      <td>119.819672</td>\n",
       "    </tr>\n",
       "    <tr>\n",
       "      <th>50%</th>\n",
       "      <td>5.448767e+03</td>\n",
       "      <td>61.0</td>\n",
       "      <td>160.926230</td>\n",
       "    </tr>\n",
       "    <tr>\n",
       "      <th>75%</th>\n",
       "      <td>1.441883e+04</td>\n",
       "      <td>61.0</td>\n",
       "      <td>272.036885</td>\n",
       "    </tr>\n",
       "    <tr>\n",
       "      <th>max</th>\n",
       "      <td>1.157605e+07</td>\n",
       "      <td>61.0</td>\n",
       "      <td>7814.459016</td>\n",
       "    </tr>\n",
       "  </tbody>\n",
       "</table>\n",
       "</div>"
      ],
      "text/plain": [
       "           variance  count          avg\n",
       "count  1.580000e+02  158.0   158.000000\n",
       "mean   2.181506e+05   61.0   312.160510\n",
       "std    1.083617e+06    0.0   867.899709\n",
       "min    1.533934e+01   61.0   100.737705\n",
       "25%    2.353158e+03   61.0   119.819672\n",
       "50%    5.448767e+03   61.0   160.926230\n",
       "75%    1.441883e+04   61.0   272.036885\n",
       "max    1.157605e+07   61.0  7814.459016"
      ]
     },
     "execution_count": 19,
     "metadata": {},
     "output_type": "execute_result"
    }
   ],
   "source": [
    "result_pd.describe()"
   ]
  },
  {
   "cell_type": "code",
   "execution_count": 20,
   "metadata": {},
   "outputs": [
    {
     "data": {
      "text/html": [
       "<div>\n",
       "<style scoped>\n",
       "    .dataframe tbody tr th:only-of-type {\n",
       "        vertical-align: middle;\n",
       "    }\n",
       "\n",
       "    .dataframe tbody tr th {\n",
       "        vertical-align: top;\n",
       "    }\n",
       "\n",
       "    .dataframe thead th {\n",
       "        text-align: right;\n",
       "    }\n",
       "</style>\n",
       "<table border=\"1\" class=\"dataframe\">\n",
       "  <thead>\n",
       "    <tr style=\"text-align: right;\">\n",
       "      <th></th>\n",
       "      <th>page_id</th>\n",
       "      <th>variance</th>\n",
       "      <th>count</th>\n",
       "      <th>avg</th>\n",
       "    </tr>\n",
       "  </thead>\n",
       "  <tbody>\n",
       "    <tr>\n",
       "      <th>0</th>\n",
       "      <td>348286</td>\n",
       "      <td>15.339344</td>\n",
       "      <td>61</td>\n",
       "      <td>293.836066</td>\n",
       "    </tr>\n",
       "    <tr>\n",
       "      <th>1</th>\n",
       "      <td>2560908</td>\n",
       "      <td>368.745902</td>\n",
       "      <td>61</td>\n",
       "      <td>110.590164</td>\n",
       "    </tr>\n",
       "    <tr>\n",
       "      <th>2</th>\n",
       "      <td>2615953</td>\n",
       "      <td>619.444809</td>\n",
       "      <td>61</td>\n",
       "      <td>120.704918</td>\n",
       "    </tr>\n",
       "    <tr>\n",
       "      <th>3</th>\n",
       "      <td>535221</td>\n",
       "      <td>645.304372</td>\n",
       "      <td>61</td>\n",
       "      <td>109.721311</td>\n",
       "    </tr>\n",
       "    <tr>\n",
       "      <th>4</th>\n",
       "      <td>2204198</td>\n",
       "      <td>645.304372</td>\n",
       "      <td>61</td>\n",
       "      <td>109.721311</td>\n",
       "    </tr>\n",
       "  </tbody>\n",
       "</table>\n",
       "</div>"
      ],
      "text/plain": [
       "   page_id    variance  count         avg\n",
       "0   348286   15.339344     61  293.836066\n",
       "1  2560908  368.745902     61  110.590164\n",
       "2  2615953  619.444809     61  120.704918\n",
       "3   535221  645.304372     61  109.721311\n",
       "4  2204198  645.304372     61  109.721311"
      ]
     },
     "execution_count": 20,
     "metadata": {},
     "output_type": "execute_result"
    }
   ],
   "source": [
    "result_pd.head()"
   ]
  },
  {
   "cell_type": "code",
   "execution_count": 21,
   "metadata": {},
   "outputs": [
    {
     "data": {
      "text/html": [
       "<div>\n",
       "<style scoped>\n",
       "    .dataframe tbody tr th:only-of-type {\n",
       "        vertical-align: middle;\n",
       "    }\n",
       "\n",
       "    .dataframe tbody tr th {\n",
       "        vertical-align: top;\n",
       "    }\n",
       "\n",
       "    .dataframe thead th {\n",
       "        text-align: right;\n",
       "    }\n",
       "</style>\n",
       "<table border=\"1\" class=\"dataframe\">\n",
       "  <thead>\n",
       "    <tr style=\"text-align: right;\">\n",
       "      <th></th>\n",
       "      <th>page_id</th>\n",
       "      <th>variance</th>\n",
       "      <th>count</th>\n",
       "      <th>avg</th>\n",
       "    </tr>\n",
       "  </thead>\n",
       "  <tbody>\n",
       "    <tr>\n",
       "      <th>153</th>\n",
       "      <td>32626</td>\n",
       "      <td>3.231792e+06</td>\n",
       "      <td>61</td>\n",
       "      <td>420.196721</td>\n",
       "    </tr>\n",
       "    <tr>\n",
       "      <th>154</th>\n",
       "      <td>24153</td>\n",
       "      <td>3.231792e+06</td>\n",
       "      <td>61</td>\n",
       "      <td>420.196721</td>\n",
       "    </tr>\n",
       "    <tr>\n",
       "      <th>155</th>\n",
       "      <td>23043</td>\n",
       "      <td>3.231792e+06</td>\n",
       "      <td>61</td>\n",
       "      <td>420.196721</td>\n",
       "    </tr>\n",
       "    <tr>\n",
       "      <th>156</th>\n",
       "      <td>1109045</td>\n",
       "      <td>4.573254e+06</td>\n",
       "      <td>61</td>\n",
       "      <td>280.491803</td>\n",
       "    </tr>\n",
       "    <tr>\n",
       "      <th>157</th>\n",
       "      <td>2675346</td>\n",
       "      <td>1.157605e+07</td>\n",
       "      <td>61</td>\n",
       "      <td>989.770492</td>\n",
       "    </tr>\n",
       "  </tbody>\n",
       "</table>\n",
       "</div>"
      ],
      "text/plain": [
       "     page_id      variance  count         avg\n",
       "153    32626  3.231792e+06     61  420.196721\n",
       "154    24153  3.231792e+06     61  420.196721\n",
       "155    23043  3.231792e+06     61  420.196721\n",
       "156  1109045  4.573254e+06     61  280.491803\n",
       "157  2675346  1.157605e+07     61  989.770492"
      ]
     },
     "execution_count": 21,
     "metadata": {},
     "output_type": "execute_result"
    }
   ],
   "source": [
    "result_pd.tail()"
   ]
  },
  {
   "cell_type": "code",
   "execution_count": 22,
   "metadata": {},
   "outputs": [
    {
     "data": {
      "text/plain": [
       "page_id     0\n",
       "variance    0\n",
       "count       0\n",
       "avg         0\n",
       "dtype: int64"
      ]
     },
     "execution_count": 22,
     "metadata": {},
     "output_type": "execute_result"
    }
   ],
   "source": [
    "result_pd.isnull().sum()"
   ]
  },
  {
   "cell_type": "code",
   "execution_count": 23,
   "metadata": {},
   "outputs": [],
   "source": [
    "result_pd.dropna(subset=['variance'],inplace=True)"
   ]
  },
  {
   "cell_type": "code",
   "execution_count": 24,
   "metadata": {},
   "outputs": [
    {
     "data": {
      "text/plain": [
       "page_id     0\n",
       "variance    0\n",
       "count       0\n",
       "avg         0\n",
       "dtype: int64"
      ]
     },
     "execution_count": 24,
     "metadata": {},
     "output_type": "execute_result"
    }
   ],
   "source": [
    "result_pd.isnull().sum()"
   ]
  },
  {
   "cell_type": "code",
   "execution_count": 25,
   "metadata": {},
   "outputs": [
    {
     "data": {
      "text/html": [
       "<div>\n",
       "<style scoped>\n",
       "    .dataframe tbody tr th:only-of-type {\n",
       "        vertical-align: middle;\n",
       "    }\n",
       "\n",
       "    .dataframe tbody tr th {\n",
       "        vertical-align: top;\n",
       "    }\n",
       "\n",
       "    .dataframe thead th {\n",
       "        text-align: right;\n",
       "    }\n",
       "</style>\n",
       "<table border=\"1\" class=\"dataframe\">\n",
       "  <thead>\n",
       "    <tr style=\"text-align: right;\">\n",
       "      <th></th>\n",
       "      <th>variance</th>\n",
       "      <th>count</th>\n",
       "      <th>avg</th>\n",
       "    </tr>\n",
       "  </thead>\n",
       "  <tbody>\n",
       "    <tr>\n",
       "      <th>count</th>\n",
       "      <td>1.580000e+02</td>\n",
       "      <td>158.0</td>\n",
       "      <td>158.000000</td>\n",
       "    </tr>\n",
       "    <tr>\n",
       "      <th>mean</th>\n",
       "      <td>2.181506e+05</td>\n",
       "      <td>61.0</td>\n",
       "      <td>312.160510</td>\n",
       "    </tr>\n",
       "    <tr>\n",
       "      <th>std</th>\n",
       "      <td>1.083617e+06</td>\n",
       "      <td>0.0</td>\n",
       "      <td>867.899709</td>\n",
       "    </tr>\n",
       "    <tr>\n",
       "      <th>min</th>\n",
       "      <td>1.533934e+01</td>\n",
       "      <td>61.0</td>\n",
       "      <td>100.737705</td>\n",
       "    </tr>\n",
       "    <tr>\n",
       "      <th>25%</th>\n",
       "      <td>2.353158e+03</td>\n",
       "      <td>61.0</td>\n",
       "      <td>119.819672</td>\n",
       "    </tr>\n",
       "    <tr>\n",
       "      <th>50%</th>\n",
       "      <td>5.448767e+03</td>\n",
       "      <td>61.0</td>\n",
       "      <td>160.926230</td>\n",
       "    </tr>\n",
       "    <tr>\n",
       "      <th>75%</th>\n",
       "      <td>1.441883e+04</td>\n",
       "      <td>61.0</td>\n",
       "      <td>272.036885</td>\n",
       "    </tr>\n",
       "    <tr>\n",
       "      <th>max</th>\n",
       "      <td>1.157605e+07</td>\n",
       "      <td>61.0</td>\n",
       "      <td>7814.459016</td>\n",
       "    </tr>\n",
       "  </tbody>\n",
       "</table>\n",
       "</div>"
      ],
      "text/plain": [
       "           variance  count          avg\n",
       "count  1.580000e+02  158.0   158.000000\n",
       "mean   2.181506e+05   61.0   312.160510\n",
       "std    1.083617e+06    0.0   867.899709\n",
       "min    1.533934e+01   61.0   100.737705\n",
       "25%    2.353158e+03   61.0   119.819672\n",
       "50%    5.448767e+03   61.0   160.926230\n",
       "75%    1.441883e+04   61.0   272.036885\n",
       "max    1.157605e+07   61.0  7814.459016"
      ]
     },
     "execution_count": 25,
     "metadata": {},
     "output_type": "execute_result"
    }
   ],
   "source": [
    "result_pd.describe()"
   ]
  },
  {
   "cell_type": "markdown",
   "metadata": {},
   "source": [
    "## Clustering"
   ]
  },
  {
   "cell_type": "code",
   "execution_count": 26,
   "metadata": {},
   "outputs": [],
   "source": [
    "result_pd.set_index('page_id', inplace=True)"
   ]
  },
  {
   "cell_type": "code",
   "execution_count": 27,
   "metadata": {},
   "outputs": [
    {
     "data": {
      "text/plain": [
       "<matplotlib.axes._subplots.AxesSubplot at 0x7f5b8bfb8b00>"
      ]
     },
     "execution_count": 27,
     "metadata": {},
     "output_type": "execute_result"
    },
    {
     "data": {
      "image/png": "[encoded data removed]",
      "text/plain": [
       "<Figure size 432x288 with 1 Axes>"
      ]
     },
     "metadata": {},
     "output_type": "display_data"
    }
   ],
   "source": [
    "result_pd.plot(kind='scatter', x='avg', y='variance', grid=True)"
   ]
  },
  {
   "cell_type": "code",
   "execution_count": 28,
   "metadata": {},
   "outputs": [],
   "source": [
    "#format the data as a numpy array to feed into the K-Means algorithm\n",
    "X = np.asarray([np.asarray(result_pd['avg']),np.asarray(result_pd['variance'])]).T"
   ]
  },
  {
   "cell_type": "code",
   "execution_count": 29,
   "metadata": {},
   "outputs": [],
   "source": [
    "#X = StandardScaler().fit_transform(X)"
   ]
  },
  {
   "cell_type": "code",
   "execution_count": 30,
   "metadata": {},
   "outputs": [],
   "source": [
    "data = X"
   ]
  },
  {
   "cell_type": "markdown",
   "metadata": {},
   "source": [
    "Our first decision is to choose how many clusters do we actually want to separate the data into. Rather than make some arbitrary decision we can use an “Elbow Curve” to highlight the relationship between how many clusters we choose, and the Sum of Squared Errors (SSE) resulting from using that number of clusters"
   ]
  },
  {
   "cell_type": "code",
   "execution_count": 31,
   "metadata": {},
   "outputs": [],
   "source": [
    "distorsions = []\n",
    "for k in range(2, 20):\n",
    "    k_means = KMeans(n_clusters=k)\n",
    "    k_means.fit(data)\n",
    "    distorsions.append(k_means.inertia_)"
   ]
  },
  {
   "cell_type": "markdown",
   "metadata": {},
   "source": [
    "Let's plot this to help us identify the optimal number of clusters to use – we would prefer a lower number of clusters, but also would prefer the SSE to be lower – so this trade off needs to be taken into account."
   ]
  },
  {
   "cell_type": "code",
   "execution_count": 32,
   "metadata": {},
   "outputs": [
    {
     "data": {
      "text/plain": [
       "Text(0.5,1,'Elbow curve')"
      ]
     },
     "execution_count": 32,
     "metadata": {},
     "output_type": "execute_result"
    },
    {
     "data": {
      "image/png": "[encoded data removed]",
      "text/plain": [
       "<Figure size 1080x360 with 1 Axes>"
      ]
     },
     "metadata": {},
     "output_type": "display_data"
    }
   ],
   "source": [
    "fig = plt.figure(figsize=(15, 5))\n",
    "plt.plot(range(2, 20), distorsions)\n",
    "plt.grid(True)\n",
    "plt.title('Elbow curve')"
   ]
  },
  {
   "cell_type": "markdown",
   "metadata": {},
   "source": [
    "So we can sort of see that once the number of clusters reaches 4 (on the bottom axis), the reduction in the SSE begins to slow down for each increase in cluster number. This would lead me to believe that the optimal number of clusters for this exercise lies around the 4 mark – so let’s use 4."
   ]
  },
  {
   "cell_type": "code",
   "execution_count": 33,
   "metadata": {},
   "outputs": [],
   "source": [
    "# computing K-Means with K = 4 (4 clusters)\n",
    "centroids,_ = kmeans(data,4)"
   ]
  },
  {
   "cell_type": "code",
   "execution_count": 34,
   "metadata": {},
   "outputs": [],
   "source": [
    "# assign each sample to a cluster\n",
    "idx,_ = vq(data,centroids)"
   ]
  },
  {
   "cell_type": "code",
   "execution_count": 37,
   "metadata": {},
   "outputs": [
    {
     "data": {
      "image/png": "[encoded data removed]",
      "text/plain": [
       "<Figure size 432x288 with 1 Axes>"
      ]
     },
     "metadata": {},
     "output_type": "display_data"
    }
   ],
   "source": [
    "# some plotting using numpy's logical indexing\n",
    "plot(data[idx==0,0],data[idx==0,1],'ob',\n",
    "     data[idx==1,0],data[idx==1,1],'oy',\n",
    "     data[idx==2,0],data[idx==2,1],'or',\n",
    "     data[idx==3,0],data[idx==3,1],'og'\n",
    "    )\n",
    "\n",
    "plot(centroids[:,0],centroids[:,1],'xr',markersize=10)\n",
    "show()"
   ]
  },
  {
   "cell_type": "code",
   "execution_count": 38,
   "metadata": {},
   "outputs": [],
   "source": [
    "# add column with cluster labels\n",
    "result_pd = result_pd.assign(Cluster=idx)"
   ]
  },
  {
   "cell_type": "code",
   "execution_count": 39,
   "metadata": {},
   "outputs": [
    {
     "data": {
      "text/html": [
       "<div>\n",
       "<style scoped>\n",
       "    .dataframe tbody tr th:only-of-type {\n",
       "        vertical-align: middle;\n",
       "    }\n",
       "\n",
       "    .dataframe tbody tr th {\n",
       "        vertical-align: top;\n",
       "    }\n",
       "\n",
       "    .dataframe thead th {\n",
       "        text-align: right;\n",
       "    }\n",
       "</style>\n",
       "<table border=\"1\" class=\"dataframe\">\n",
       "  <thead>\n",
       "    <tr style=\"text-align: right;\">\n",
       "      <th></th>\n",
       "      <th>variance</th>\n",
       "      <th>count</th>\n",
       "      <th>avg</th>\n",
       "      <th>Cluster</th>\n",
       "    </tr>\n",
       "    <tr>\n",
       "      <th>page_id</th>\n",
       "      <th></th>\n",
       "      <th></th>\n",
       "      <th></th>\n",
       "      <th></th>\n",
       "    </tr>\n",
       "  </thead>\n",
       "  <tbody>\n",
       "    <tr>\n",
       "      <th>348286</th>\n",
       "      <td>15.339344</td>\n",
       "      <td>61</td>\n",
       "      <td>293.836066</td>\n",
       "      <td>3</td>\n",
       "    </tr>\n",
       "    <tr>\n",
       "      <th>2560908</th>\n",
       "      <td>368.745902</td>\n",
       "      <td>61</td>\n",
       "      <td>110.590164</td>\n",
       "      <td>3</td>\n",
       "    </tr>\n",
       "    <tr>\n",
       "      <th>2615953</th>\n",
       "      <td>619.444809</td>\n",
       "      <td>61</td>\n",
       "      <td>120.704918</td>\n",
       "      <td>3</td>\n",
       "    </tr>\n",
       "    <tr>\n",
       "      <th>535221</th>\n",
       "      <td>645.304372</td>\n",
       "      <td>61</td>\n",
       "      <td>109.721311</td>\n",
       "      <td>3</td>\n",
       "    </tr>\n",
       "    <tr>\n",
       "      <th>2204198</th>\n",
       "      <td>645.304372</td>\n",
       "      <td>61</td>\n",
       "      <td>109.721311</td>\n",
       "      <td>3</td>\n",
       "    </tr>\n",
       "  </tbody>\n",
       "</table>\n",
       "</div>"
      ],
      "text/plain": [
       "           variance  count         avg  Cluster\n",
       "page_id                                        \n",
       "348286    15.339344     61  293.836066        3\n",
       "2560908  368.745902     61  110.590164        3\n",
       "2615953  619.444809     61  120.704918        3\n",
       "535221   645.304372     61  109.721311        3\n",
       "2204198  645.304372     61  109.721311        3"
      ]
     },
     "execution_count": 39,
     "metadata": {},
     "output_type": "execute_result"
    }
   ],
   "source": [
    "# take a look at the data (at head)\n",
    "result_pd.head()"
   ]
  },
  {
   "cell_type": "code",
   "execution_count": 40,
   "metadata": {},
   "outputs": [
    {
     "data": {
      "text/html": [
       "<div>\n",
       "<style scoped>\n",
       "    .dataframe tbody tr th:only-of-type {\n",
       "        vertical-align: middle;\n",
       "    }\n",
       "\n",
       "    .dataframe tbody tr th {\n",
       "        vertical-align: top;\n",
       "    }\n",
       "\n",
       "    .dataframe thead th {\n",
       "        text-align: right;\n",
       "    }\n",
       "</style>\n",
       "<table border=\"1\" class=\"dataframe\">\n",
       "  <thead>\n",
       "    <tr style=\"text-align: right;\">\n",
       "      <th></th>\n",
       "      <th>variance</th>\n",
       "      <th>count</th>\n",
       "      <th>avg</th>\n",
       "      <th>Cluster</th>\n",
       "    </tr>\n",
       "    <tr>\n",
       "      <th>page_id</th>\n",
       "      <th></th>\n",
       "      <th></th>\n",
       "      <th></th>\n",
       "      <th></th>\n",
       "    </tr>\n",
       "  </thead>\n",
       "  <tbody>\n",
       "    <tr>\n",
       "      <th>32626</th>\n",
       "      <td>3.231792e+06</td>\n",
       "      <td>61</td>\n",
       "      <td>420.196721</td>\n",
       "      <td>1</td>\n",
       "    </tr>\n",
       "    <tr>\n",
       "      <th>24153</th>\n",
       "      <td>3.231792e+06</td>\n",
       "      <td>61</td>\n",
       "      <td>420.196721</td>\n",
       "      <td>1</td>\n",
       "    </tr>\n",
       "    <tr>\n",
       "      <th>23043</th>\n",
       "      <td>3.231792e+06</td>\n",
       "      <td>61</td>\n",
       "      <td>420.196721</td>\n",
       "      <td>1</td>\n",
       "    </tr>\n",
       "    <tr>\n",
       "      <th>1109045</th>\n",
       "      <td>4.573254e+06</td>\n",
       "      <td>61</td>\n",
       "      <td>280.491803</td>\n",
       "      <td>1</td>\n",
       "    </tr>\n",
       "    <tr>\n",
       "      <th>2675346</th>\n",
       "      <td>1.157605e+07</td>\n",
       "      <td>61</td>\n",
       "      <td>989.770492</td>\n",
       "      <td>1</td>\n",
       "    </tr>\n",
       "  </tbody>\n",
       "</table>\n",
       "</div>"
      ],
      "text/plain": [
       "             variance  count         avg  Cluster\n",
       "page_id                                          \n",
       "32626    3.231792e+06     61  420.196721        1\n",
       "24153    3.231792e+06     61  420.196721        1\n",
       "23043    3.231792e+06     61  420.196721        1\n",
       "1109045  4.573254e+06     61  280.491803        1\n",
       "2675346  1.157605e+07     61  989.770492        1"
      ]
     },
     "execution_count": 40,
     "metadata": {},
     "output_type": "execute_result"
    }
   ],
   "source": [
    "# take a look at the data (at tail)\n",
    "result_pd.tail()"
   ]
  },
  {
   "cell_type": "markdown",
   "metadata": {},
   "source": [
    "## Evaluation"
   ]
  },
  {
   "cell_type": "markdown",
   "metadata": {},
   "source": [
    "Silhouette analysis can be used to evaluate the resulting clustering."
   ]
  },
  {
   "cell_type": "code",
   "execution_count": 41,
   "metadata": {},
   "outputs": [
    {
     "name": "stdout",
     "output_type": "stream",
     "text": [
      "Silhouette Coefficient: 0.897\n"
     ]
    }
   ],
   "source": [
    "print(\"Silhouette Coefficient: %0.3f\" % metrics.silhouette_score(X, idx))"
   ]
  },
  {
   "cell_type": "markdown",
   "metadata": {},
   "source": [
    "Let's look at some descriptive statistics"
   ]
  },
  {
   "cell_type": "code",
   "execution_count": 42,
   "metadata": {},
   "outputs": [
    {
     "data": {
      "text/html": [
       "<div>\n",
       "<style scoped>\n",
       "    .dataframe tbody tr th:only-of-type {\n",
       "        vertical-align: middle;\n",
       "    }\n",
       "\n",
       "    .dataframe tbody tr th {\n",
       "        vertical-align: top;\n",
       "    }\n",
       "\n",
       "    .dataframe thead th {\n",
       "        text-align: right;\n",
       "    }\n",
       "</style>\n",
       "<table border=\"1\" class=\"dataframe\">\n",
       "  <thead>\n",
       "    <tr style=\"text-align: right;\">\n",
       "      <th></th>\n",
       "      <th>count</th>\n",
       "      <th>mean</th>\n",
       "      <th>std</th>\n",
       "      <th>min</th>\n",
       "      <th>25%</th>\n",
       "      <th>50%</th>\n",
       "      <th>75%</th>\n",
       "      <th>max</th>\n",
       "    </tr>\n",
       "    <tr>\n",
       "      <th>Cluster</th>\n",
       "      <th></th>\n",
       "      <th></th>\n",
       "      <th></th>\n",
       "      <th></th>\n",
       "      <th></th>\n",
       "      <th></th>\n",
       "      <th></th>\n",
       "      <th></th>\n",
       "    </tr>\n",
       "  </thead>\n",
       "  <tbody>\n",
       "    <tr>\n",
       "      <th>0</th>\n",
       "      <td>7.0</td>\n",
       "      <td>3.362205e+05</td>\n",
       "      <td>1.510627e+05</td>\n",
       "      <td>1.904261e+05</td>\n",
       "      <td>1.975523e+05</td>\n",
       "      <td>3.716542e+05</td>\n",
       "      <td>4.023982e+05</td>\n",
       "      <td>5.915624e+05</td>\n",
       "    </tr>\n",
       "    <tr>\n",
       "      <th>1</th>\n",
       "      <td>5.0</td>\n",
       "      <td>5.168937e+06</td>\n",
       "      <td>3.628484e+06</td>\n",
       "      <td>3.231792e+06</td>\n",
       "      <td>3.231792e+06</td>\n",
       "      <td>3.231792e+06</td>\n",
       "      <td>4.573254e+06</td>\n",
       "      <td>1.157605e+07</td>\n",
       "    </tr>\n",
       "    <tr>\n",
       "      <th>2</th>\n",
       "      <td>5.0</td>\n",
       "      <td>9.601327e+05</td>\n",
       "      <td>8.422935e+04</td>\n",
       "      <td>8.363734e+05</td>\n",
       "      <td>9.430286e+05</td>\n",
       "      <td>9.430286e+05</td>\n",
       "      <td>1.039116e+06</td>\n",
       "      <td>1.039116e+06</td>\n",
       "    </tr>\n",
       "    <tr>\n",
       "      <th>3</th>\n",
       "      <td>141.0</td>\n",
       "      <td>1.041781e+04</td>\n",
       "      <td>1.656354e+04</td>\n",
       "      <td>1.533934e+01</td>\n",
       "      <td>2.223937e+03</td>\n",
       "      <td>3.963917e+03</td>\n",
       "      <td>1.089058e+04</td>\n",
       "      <td>9.536103e+04</td>\n",
       "    </tr>\n",
       "  </tbody>\n",
       "</table>\n",
       "</div>"
      ],
      "text/plain": [
       "         count          mean           std           min           25%  \\\n",
       "Cluster                                                                  \n",
       "0          7.0  3.362205e+05  1.510627e+05  1.904261e+05  1.975523e+05   \n",
       "1          5.0  5.168937e+06  3.628484e+06  3.231792e+06  3.231792e+06   \n",
       "2          5.0  9.601327e+05  8.422935e+04  8.363734e+05  9.430286e+05   \n",
       "3        141.0  1.041781e+04  1.656354e+04  1.533934e+01  2.223937e+03   \n",
       "\n",
       "                  50%           75%           max  \n",
       "Cluster                                            \n",
       "0        3.716542e+05  4.023982e+05  5.915624e+05  \n",
       "1        3.231792e+06  4.573254e+06  1.157605e+07  \n",
       "2        9.430286e+05  1.039116e+06  1.039116e+06  \n",
       "3        3.963917e+03  1.089058e+04  9.536103e+04  "
      ]
     },
     "execution_count": 42,
     "metadata": {},
     "output_type": "execute_result"
    }
   ],
   "source": [
    "result_pd.groupby(result_pd['Cluster']).variance.describe()"
   ]
  },
  {
   "cell_type": "code",
   "execution_count": 43,
   "metadata": {},
   "outputs": [
    {
     "data": {
      "text/plain": [
       "0         AxesSubplot(0.1,0.559091;0.363636x0.340909)\n",
       "1    AxesSubplot(0.536364,0.559091;0.363636x0.340909)\n",
       "2             AxesSubplot(0.1,0.15;0.363636x0.340909)\n",
       "3        AxesSubplot(0.536364,0.15;0.363636x0.340909)\n",
       "dtype: object"
      ]
     },
     "execution_count": 43,
     "metadata": {},
     "output_type": "execute_result"
    },
    {
     "data": {
      "image/png": "[encoded data removed]",
      "text/plain": [
       "<Figure size 432x288 with 4 Axes>"
      ]
     },
     "metadata": {},
     "output_type": "display_data"
    }
   ],
   "source": [
    "result_pd.groupby(result_pd['Cluster']).boxplot(column=['variance'],grid=False)"
   ]
  },
  {
   "cell_type": "code",
   "execution_count": 44,
   "metadata": {},
   "outputs": [
    {
     "data": {
      "text/plain": [
       "<matplotlib.axes._subplots.AxesSubplot at 0x7f5b89540ac8>"
      ]
     },
     "execution_count": 44,
     "metadata": {},
     "output_type": "execute_result"
    },
    {
     "data": {
      "image/png": "[encoded data removed]",
      "text/plain": [
       "<Figure size 432x288 with 1 Axes>"
      ]
     },
     "metadata": {},
     "output_type": "display_data"
    }
   ],
   "source": [
    "result_pd.boxplot(column=['variance'], by='Cluster', grid=False)"
   ]
  },
  {
   "cell_type": "markdown",
   "metadata": {},
   "source": [
    "We see that the most numerous cluster - 3 cluster  - has lower volatility"
   ]
  },
  {
   "cell_type": "markdown",
   "metadata": {},
   "source": [
    "## Top by variance "
   ]
  },
  {
   "cell_type": "code",
   "execution_count": 45,
   "metadata": {},
   "outputs": [],
   "source": [
    "from plotly import __version__\n",
    "from plotly.offline import download_plotlyjs, init_notebook_mode, plot, iplot\n",
    "import plotly.plotly as py\n",
    "import plotly.graph_objs as go"
   ]
  },
  {
   "cell_type": "code",
   "execution_count": 46,
   "metadata": {},
   "outputs": [],
   "source": [
    "from plotly.graph_objs import Scatter, Figure, Layout"
   ]
  },
  {
   "cell_type": "code",
   "execution_count": 47,
   "metadata": {},
   "outputs": [
    {
     "data": {
      "text/html": [
       "<script>requirejs.config({paths: { 'plotly': ['https://cdn.plot.ly/plotly-latest.min']},});if(!window.Plotly) {{require(['plotly'],function(plotly) {window.Plotly=plotly;});}}</script>"
      ],
      "text/vnd.plotly.v1+html": [
       "<script>requirejs.config({paths: { 'plotly': ['https://cdn.plot.ly/plotly-latest.min']},});if(!window.Plotly) {{require(['plotly'],function(plotly) {window.Plotly=plotly;});}}</script>"
      ]
     },
     "metadata": {},
     "output_type": "display_data"
    }
   ],
   "source": [
    "init_notebook_mode(connected=True)"
   ]
  },
  {
   "cell_type": "code",
   "execution_count": 48,
   "metadata": {},
   "outputs": [],
   "source": [
    "#identify the min variance\n",
    "min_var = result_pd.variance.idxmin()"
   ]
  },
  {
   "cell_type": "code",
   "execution_count": 49,
   "metadata": {},
   "outputs": [
    {
     "data": {
      "text/plain": [
       "variance     15.339344\n",
       "count        61.000000\n",
       "avg         293.836066\n",
       "Cluster       3.000000\n",
       "Name: 348286, dtype: float64"
      ]
     },
     "execution_count": 49,
     "metadata": {},
     "output_type": "execute_result"
    }
   ],
   "source": [
    "result_pd.loc[min_var]"
   ]
  },
  {
   "cell_type": "code",
   "execution_count": 50,
   "metadata": {},
   "outputs": [],
   "source": [
    "fnl_pd = fnl.toPandas()"
   ]
  },
  {
   "cell_type": "code",
   "execution_count": 51,
   "metadata": {},
   "outputs": [],
   "source": [
    "fnl_pd.set_index('page_id', inplace=True)"
   ]
  },
  {
   "cell_type": "code",
   "execution_count": 52,
   "metadata": {},
   "outputs": [
    {
     "data": {
      "text/plain": [
       "title        Пропан\n",
       "variance    15.3393\n",
       "Name: 348286, dtype: object"
      ]
     },
     "execution_count": 52,
     "metadata": {},
     "output_type": "execute_result"
    }
   ],
   "source": [
    "fnl_pd.loc[min_var]"
   ]
  },
  {
   "cell_type": "code",
   "execution_count": 53,
   "metadata": {},
   "outputs": [],
   "source": [
    "ds_pd = ds.filter(ds.page_id == min_var).toPandas()"
   ]
  },
  {
   "cell_type": "code",
   "execution_count": 54,
   "metadata": {},
   "outputs": [],
   "source": [
    "ds_pd['date'] = pd.to_datetime(ds_pd['date'])"
   ]
  },
  {
   "cell_type": "code",
   "execution_count": 55,
   "metadata": {},
   "outputs": [],
   "source": [
    "ds_pd.sort_values(by='date',inplace=True)"
   ]
  },
  {
   "cell_type": "code",
   "execution_count": 56,
   "metadata": {},
   "outputs": [
    {
     "data": {
      "text/html": [
       "<div>\n",
       "<style scoped>\n",
       "    .dataframe tbody tr th:only-of-type {\n",
       "        vertical-align: middle;\n",
       "    }\n",
       "\n",
       "    .dataframe tbody tr th {\n",
       "        vertical-align: top;\n",
       "    }\n",
       "\n",
       "    .dataframe thead th {\n",
       "        text-align: right;\n",
       "    }\n",
       "</style>\n",
       "<table border=\"1\" class=\"dataframe\">\n",
       "  <thead>\n",
       "    <tr style=\"text-align: right;\">\n",
       "      <th></th>\n",
       "      <th>page_id</th>\n",
       "      <th>date</th>\n",
       "      <th>requests</th>\n",
       "    </tr>\n",
       "  </thead>\n",
       "  <tbody>\n",
       "    <tr>\n",
       "      <th>51</th>\n",
       "      <td>348286</td>\n",
       "      <td>2018-06-01</td>\n",
       "      <td>297</td>\n",
       "    </tr>\n",
       "    <tr>\n",
       "      <th>3</th>\n",
       "      <td>348286</td>\n",
       "      <td>2018-06-02</td>\n",
       "      <td>295</td>\n",
       "    </tr>\n",
       "    <tr>\n",
       "      <th>29</th>\n",
       "      <td>348286</td>\n",
       "      <td>2018-06-03</td>\n",
       "      <td>296</td>\n",
       "    </tr>\n",
       "    <tr>\n",
       "      <th>59</th>\n",
       "      <td>348286</td>\n",
       "      <td>2018-06-04</td>\n",
       "      <td>292</td>\n",
       "    </tr>\n",
       "    <tr>\n",
       "      <th>10</th>\n",
       "      <td>348286</td>\n",
       "      <td>2018-06-05</td>\n",
       "      <td>291</td>\n",
       "    </tr>\n",
       "  </tbody>\n",
       "</table>\n",
       "</div>"
      ],
      "text/plain": [
       "   page_id       date  requests\n",
       "51  348286 2018-06-01       297\n",
       "3   348286 2018-06-02       295\n",
       "29  348286 2018-06-03       296\n",
       "59  348286 2018-06-04       292\n",
       "10  348286 2018-06-05       291"
      ]
     },
     "execution_count": 56,
     "metadata": {},
     "output_type": "execute_result"
    }
   ],
   "source": [
    "ds_pd.head()"
   ]
  },
  {
   "cell_type": "code",
   "execution_count": 57,
   "metadata": {},
   "outputs": [],
   "source": [
    "ds_pd = ds_pd.set_index(ds_pd.date)"
   ]
  },
  {
   "cell_type": "code",
   "execution_count": 58,
   "metadata": {},
   "outputs": [
    {
     "data": {
      "application/vnd.plotly.v1+json": {
       "data": [
        {
         "name": "requests",
         "type": "scatter",
         "x": [
          "2018-06-01",
          "2018-06-02",
          "2018-06-03",
          "2018-06-04",
          "2018-06-05",
          "2018-06-06",
          "2018-06-07",
          "2018-06-08",
          "2018-06-09",
          "2018-06-10",
          "2018-06-11",
          "2018-06-12",
          "2018-06-13",
          "2018-06-14",
          "2018-06-15",
          "2018-06-16",
          "2018-06-17",
          "2018-06-18",
          "2018-06-19",
          "2018-06-20",
          "2018-06-21",
          "2018-06-22",
          "2018-06-23",
          "2018-06-24",
          "2018-06-25",
          "2018-06-26",
          "2018-06-27",
          "2018-06-28",
          "2018-06-29",
          "2018-06-30",
          "2018-07-01",
          "2018-07-02",
          "2018-07-03",
          "2018-07-04",
          "2018-07-05",
          "2018-07-06",
          "2018-07-07",
          "2018-07-08",
          "2018-07-09",
          "2018-07-10",
          "2018-07-11",
          "2018-07-12",
          "2018-07-13",
          "2018-07-14",
          "2018-07-15",
          "2018-07-16",
          "2018-07-17",
          "2018-07-18",
          "2018-07-19",
          "2018-07-20",
          "2018-07-21",
          "2018-07-22",
          "2018-07-23",
          "2018-07-24",
          "2018-07-25",
          "2018-07-26",
          "2018-07-27",
          "2018-07-28",
          "2018-07-29",
          "2018-07-30",
          "2018-07-31"
         ],
         "y": [
          297,
          295,
          296,
          292,
          291,
          299,
          297,
          298,
          288,
          290,
          304,
          299,
          295,
          292,
          296,
          292,
          291,
          293,
          302,
          301,
          296,
          291,
          295,
          289,
          296,
          292,
          295,
          292,
          291,
          291,
          290,
          293,
          293,
          298,
          291,
          294,
          289,
          288,
          292,
          293,
          293,
          292,
          292,
          291,
          309,
          294,
          290,
          296,
          290,
          296,
          293,
          290,
          296,
          293,
          294,
          295,
          297,
          291,
          294,
          289,
          292
         ]
        },
        {
         "line": {
          "color": "#F06A6A",
          "dash": "dash"
         },
         "name": "mean",
         "type": "scatter",
         "x": [
          "2018-06-01",
          "2018-06-02",
          "2018-06-03",
          "2018-06-04",
          "2018-06-05",
          "2018-06-06",
          "2018-06-07",
          "2018-06-08",
          "2018-06-09",
          "2018-06-10",
          "2018-06-11",
          "2018-06-12",
          "2018-06-13",
          "2018-06-14",
          "2018-06-15",
          "2018-06-16",
          "2018-06-17",
          "2018-06-18",
          "2018-06-19",
          "2018-06-20",
          "2018-06-21",
          "2018-06-22",
          "2018-06-23",
          "2018-06-24",
          "2018-06-25",
          "2018-06-26",
          "2018-06-27",
          "2018-06-28",
          "2018-06-29",
          "2018-06-30",
          "2018-07-01",
          "2018-07-02",
          "2018-07-03",
          "2018-07-04",
          "2018-07-05",
          "2018-07-06",
          "2018-07-07",
          "2018-07-08",
          "2018-07-09",
          "2018-07-10",
          "2018-07-11",
          "2018-07-12",
          "2018-07-13",
          "2018-07-14",
          "2018-07-15",
          "2018-07-16",
          "2018-07-17",
          "2018-07-18",
          "2018-07-19",
          "2018-07-20",
          "2018-07-21",
          "2018-07-22",
          "2018-07-23",
          "2018-07-24",
          "2018-07-25",
          "2018-07-26",
          "2018-07-27",
          "2018-07-28",
          "2018-07-29",
          "2018-07-30",
          "2018-07-31"
         ],
         "y": [
          293.8360655737705,
          293.8360655737705,
          293.8360655737705,
          293.8360655737705,
          293.8360655737705,
          293.8360655737705,
          293.8360655737705,
          293.8360655737705,
          293.8360655737705,
          293.8360655737705,
          293.8360655737705,
          293.8360655737705,
          293.8360655737705,
          293.8360655737705,
          293.8360655737705,
          293.8360655737705,
          293.8360655737705,
          293.8360655737705,
          293.8360655737705,
          293.8360655737705,
          293.8360655737705,
          293.8360655737705,
          293.8360655737705,
          293.8360655737705,
          293.8360655737705,
          293.8360655737705,
          293.8360655737705,
          293.8360655737705,
          293.8360655737705,
          293.8360655737705,
          293.8360655737705,
          293.8360655737705,
          293.8360655737705,
          293.8360655737705,
          293.8360655737705,
          293.8360655737705,
          293.8360655737705,
          293.8360655737705,
          293.8360655737705,
          293.8360655737705,
          293.8360655737705,
          293.8360655737705,
          293.8360655737705,
          293.8360655737705,
          293.8360655737705,
          293.8360655737705,
          293.8360655737705,
          293.8360655737705,
          293.8360655737705,
          293.8360655737705,
          293.8360655737705,
          293.8360655737705,
          293.8360655737705,
          293.8360655737705,
          293.8360655737705,
          293.8360655737705,
          293.8360655737705,
          293.8360655737705,
          293.8360655737705,
          293.8360655737705,
          293.8360655737705
         ]
        }
       ],
       "layout": {
        "title": "TOP 1 Пропан id348286: Number Of requests",
        "xaxis": {
         "title": "date",
         "titlefont": {
          "color": "#7f7f7f",
          "family": "Courier New, monospace",
          "size": 18
         }
        },
        "yaxis": {
         "title": "number",
         "titlefont": {
          "color": "#7f7f7f",
          "family": "Courier New, monospace",
          "size": 18
         }
        }
       }
      },
      "text/html": [
       "<div id=\"138c0b94-dd72-4e5d-9966-5ba1cfb1de27\" style=\"height: 525px; width: 100%;\" class=\"plotly-graph-div\"></div><script type=\"text/javascript\">require([\"plotly\"], function(Plotly) { window.PLOTLYENV=window.PLOTLYENV || {};window.PLOTLYENV.BASE_URL=\"https://plot.ly\";Plotly.newPlot(\"138c0b94-dd72-4e5d-9966-5ba1cfb1de27\", [{\"x\": [\"2018-06-01\", \"2018-06-02\", \"2018-06-03\", \"2018-06-04\", \"2018-06-05\", \"2018-06-06\", \"2018-06-07\", \"2018-06-08\", \"2018-06-09\", \"2018-06-10\", \"2018-06-11\", \"2018-06-12\", \"2018-06-13\", \"2018-06-14\", \"2018-06-15\", \"2018-06-16\", \"2018-06-17\", \"2018-06-18\", \"2018-06-19\", \"2018-06-20\", \"2018-06-21\", \"2018-06-22\", \"2018-06-23\", \"2018-06-24\", \"2018-06-25\", \"2018-06-26\", \"2018-06-27\", \"2018-06-28\", \"2018-06-29\", \"2018-06-30\", \"2018-07-01\", \"2018-07-02\", \"2018-07-03\", \"2018-07-04\", \"2018-07-05\", \"2018-07-06\", \"2018-07-07\", \"2018-07-08\", \"2018-07-09\", \"2018-07-10\", \"2018-07-11\", \"2018-07-12\", \"2018-07-13\", \"2018-07-14\", \"2018-07-15\", \"2018-07-16\", \"2018-07-17\", \"2018-07-18\", \"2018-07-19\", \"2018-07-20\", \"2018-07-21\", \"2018-07-22\", \"2018-07-23\", \"2018-07-24\", \"2018-07-25\", \"2018-07-26\", \"2018-07-27\", \"2018-07-28\", \"2018-07-29\", \"2018-07-30\", \"2018-07-31\"], \"type\": \"scatter\", \"y\": [297, 295, 296, 292, 291, 299, 297, 298, 288, 290, 304, 299, 295, 292, 296, 292, 291, 293, 302, 301, 296, 291, 295, 289, 296, 292, 295, 292, 291, 291, 290, 293, 293, 298, 291, 294, 289, 288, 292, 293, 293, 292, 292, 291, 309, 294, 290, 296, 290, 296, 293, 290, 296, 293, 294, 295, 297, 291, 294, 289, 292], \"name\": \"requests\"}, {\"line\": {\"color\": \"#F06A6A\", \"dash\": \"dash\"}, \"type\": \"scatter\", \"x\": [\"2018-06-01\", \"2018-06-02\", \"2018-06-03\", \"2018-06-04\", \"2018-06-05\", \"2018-06-06\", \"2018-06-07\", \"2018-06-08\", \"2018-06-09\", \"2018-06-10\", \"2018-06-11\", \"2018-06-12\", \"2018-06-13\", \"2018-06-14\", \"2018-06-15\", \"2018-06-16\", \"2018-06-17\", \"2018-06-18\", \"2018-06-19\", \"2018-06-20\", \"2018-06-21\", \"2018-06-22\", \"2018-06-23\", \"2018-06-24\", \"2018-06-25\", \"2018-06-26\", \"2018-06-27\", \"2018-06-28\", \"2018-06-29\", \"2018-06-30\", \"2018-07-01\", \"2018-07-02\", \"2018-07-03\", \"2018-07-04\", \"2018-07-05\", \"2018-07-06\", \"2018-07-07\", \"2018-07-08\", \"2018-07-09\", \"2018-07-10\", \"2018-07-11\", \"2018-07-12\", \"2018-07-13\", \"2018-07-14\", \"2018-07-15\", \"2018-07-16\", \"2018-07-17\", \"2018-07-18\", \"2018-07-19\", \"2018-07-20\", \"2018-07-21\", \"2018-07-22\", \"2018-07-23\", \"2018-07-24\", \"2018-07-25\", \"2018-07-26\", \"2018-07-27\", \"2018-07-28\", \"2018-07-29\", \"2018-07-30\", \"2018-07-31\"], \"y\": [293.8360655737705, 293.8360655737705, 293.8360655737705, 293.8360655737705, 293.8360655737705, 293.8360655737705, 293.8360655737705, 293.8360655737705, 293.8360655737705, 293.8360655737705, 293.8360655737705, 293.8360655737705, 293.8360655737705, 293.8360655737705, 293.8360655737705, 293.8360655737705, 293.8360655737705, 293.8360655737705, 293.8360655737705, 293.8360655737705, 293.8360655737705, 293.8360655737705, 293.8360655737705, 293.8360655737705, 293.8360655737705, 293.8360655737705, 293.8360655737705, 293.8360655737705, 293.8360655737705, 293.8360655737705, 293.8360655737705, 293.8360655737705, 293.8360655737705, 293.8360655737705, 293.8360655737705, 293.8360655737705, 293.8360655737705, 293.8360655737705, 293.8360655737705, 293.8360655737705, 293.8360655737705, 293.8360655737705, 293.8360655737705, 293.8360655737705, 293.8360655737705, 293.8360655737705, 293.8360655737705, 293.8360655737705, 293.8360655737705, 293.8360655737705, 293.8360655737705, 293.8360655737705, 293.8360655737705, 293.8360655737705, 293.8360655737705, 293.8360655737705, 293.8360655737705, 293.8360655737705, 293.8360655737705, 293.8360655737705, 293.8360655737705], \"name\": \"mean\"}], {\"title\": \"TOP 1 \\u041f\\u0440\\u043e\\u043f\\u0430\\u043d id348286: Number Of requests\", \"yaxis\": {\"titlefont\": {\"size\": 18, \"color\": \"#7f7f7f\", \"family\": \"Courier New, monospace\"}, \"title\": \"number\"}, \"xaxis\": {\"titlefont\": {\"size\": 18, \"color\": \"#7f7f7f\", \"family\": \"Courier New, monospace\"}, \"title\": \"date\"}}, {\"linkText\": \"Export to plot.ly\", \"showLink\": true})});</script>"
      ],
      "text/vnd.plotly.v1+html": [
       "<div id=\"138c0b94-dd72-4e5d-9966-5ba1cfb1de27\" style=\"height: 525px; width: 100%;\" class=\"plotly-graph-div\"></div><script type=\"text/javascript\">require([\"plotly\"], function(Plotly) { window.PLOTLYENV=window.PLOTLYENV || {};window.PLOTLYENV.BASE_URL=\"https://plot.ly\";Plotly.newPlot(\"138c0b94-dd72-4e5d-9966-5ba1cfb1de27\", [{\"x\": [\"2018-06-01\", \"2018-06-02\", \"2018-06-03\", \"2018-06-04\", \"2018-06-05\", \"2018-06-06\", \"2018-06-07\", \"2018-06-08\", \"2018-06-09\", \"2018-06-10\", \"2018-06-11\", \"2018-06-12\", \"2018-06-13\", \"2018-06-14\", \"2018-06-15\", \"2018-06-16\", \"2018-06-17\", \"2018-06-18\", \"2018-06-19\", \"2018-06-20\", \"2018-06-21\", \"2018-06-22\", \"2018-06-23\", \"2018-06-24\", \"2018-06-25\", \"2018-06-26\", \"2018-06-27\", \"2018-06-28\", \"2018-06-29\", \"2018-06-30\", \"2018-07-01\", \"2018-07-02\", \"2018-07-03\", \"2018-07-04\", \"2018-07-05\", \"2018-07-06\", \"2018-07-07\", \"2018-07-08\", \"2018-07-09\", \"2018-07-10\", \"2018-07-11\", \"2018-07-12\", \"2018-07-13\", \"2018-07-14\", \"2018-07-15\", \"2018-07-16\", \"2018-07-17\", \"2018-07-18\", \"2018-07-19\", \"2018-07-20\", \"2018-07-21\", \"2018-07-22\", \"2018-07-23\", \"2018-07-24\", \"2018-07-25\", \"2018-07-26\", \"2018-07-27\", \"2018-07-28\", \"2018-07-29\", \"2018-07-30\", \"2018-07-31\"], \"type\": \"scatter\", \"y\": [297, 295, 296, 292, 291, 299, 297, 298, 288, 290, 304, 299, 295, 292, 296, 292, 291, 293, 302, 301, 296, 291, 295, 289, 296, 292, 295, 292, 291, 291, 290, 293, 293, 298, 291, 294, 289, 288, 292, 293, 293, 292, 292, 291, 309, 294, 290, 296, 290, 296, 293, 290, 296, 293, 294, 295, 297, 291, 294, 289, 292], \"name\": \"requests\"}, {\"line\": {\"color\": \"#F06A6A\", \"dash\": \"dash\"}, \"type\": \"scatter\", \"x\": [\"2018-06-01\", \"2018-06-02\", \"2018-06-03\", \"2018-06-04\", \"2018-06-05\", \"2018-06-06\", \"2018-06-07\", \"2018-06-08\", \"2018-06-09\", \"2018-06-10\", \"2018-06-11\", \"2018-06-12\", \"2018-06-13\", \"2018-06-14\", \"2018-06-15\", \"2018-06-16\", \"2018-06-17\", \"2018-06-18\", \"2018-06-19\", \"2018-06-20\", \"2018-06-21\", \"2018-06-22\", \"2018-06-23\", \"2018-06-24\", \"2018-06-25\", \"2018-06-26\", \"2018-06-27\", \"2018-06-28\", \"2018-06-29\", \"2018-06-30\", \"2018-07-01\", \"2018-07-02\", \"2018-07-03\", \"2018-07-04\", \"2018-07-05\", \"2018-07-06\", \"2018-07-07\", \"2018-07-08\", \"2018-07-09\", \"2018-07-10\", \"2018-07-11\", \"2018-07-12\", \"2018-07-13\", \"2018-07-14\", \"2018-07-15\", \"2018-07-16\", \"2018-07-17\", \"2018-07-18\", \"2018-07-19\", \"2018-07-20\", \"2018-07-21\", \"2018-07-22\", \"2018-07-23\", \"2018-07-24\", \"2018-07-25\", \"2018-07-26\", \"2018-07-27\", \"2018-07-28\", \"2018-07-29\", \"2018-07-30\", \"2018-07-31\"], \"y\": [293.8360655737705, 293.8360655737705, 293.8360655737705, 293.8360655737705, 293.8360655737705, 293.8360655737705, 293.8360655737705, 293.8360655737705, 293.8360655737705, 293.8360655737705, 293.8360655737705, 293.8360655737705, 293.8360655737705, 293.8360655737705, 293.8360655737705, 293.8360655737705, 293.8360655737705, 293.8360655737705, 293.8360655737705, 293.8360655737705, 293.8360655737705, 293.8360655737705, 293.8360655737705, 293.8360655737705, 293.8360655737705, 293.8360655737705, 293.8360655737705, 293.8360655737705, 293.8360655737705, 293.8360655737705, 293.8360655737705, 293.8360655737705, 293.8360655737705, 293.8360655737705, 293.8360655737705, 293.8360655737705, 293.8360655737705, 293.8360655737705, 293.8360655737705, 293.8360655737705, 293.8360655737705, 293.8360655737705, 293.8360655737705, 293.8360655737705, 293.8360655737705, 293.8360655737705, 293.8360655737705, 293.8360655737705, 293.8360655737705, 293.8360655737705, 293.8360655737705, 293.8360655737705, 293.8360655737705, 293.8360655737705, 293.8360655737705, 293.8360655737705, 293.8360655737705, 293.8360655737705, 293.8360655737705, 293.8360655737705, 293.8360655737705], \"name\": \"mean\"}], {\"title\": \"TOP 1 \\u041f\\u0440\\u043e\\u043f\\u0430\\u043d id348286: Number Of requests\", \"yaxis\": {\"titlefont\": {\"size\": 18, \"color\": \"#7f7f7f\", \"family\": \"Courier New, monospace\"}, \"title\": \"number\"}, \"xaxis\": {\"titlefont\": {\"size\": 18, \"color\": \"#7f7f7f\", \"family\": \"Courier New, monospace\"}, \"title\": \"date\"}}, {\"linkText\": \"Export to plot.ly\", \"showLink\": true})});</script>"
      ]
     },
     "metadata": {},
     "output_type": "display_data"
    }
   ],
   "source": [
    "trace1 = go.Scatter(\n",
    "    x=ds_pd.index,\n",
    "    y=ds_pd['requests'],\n",
    "    name='requests'\n",
    ")\n",
    "\n",
    "trace2 = go.Scatter(\n",
    "    x=ds_pd.index,\n",
    "    y=[ds_pd['requests'].mean()]*len(ds_pd.index),\n",
    "    name='mean',\n",
    "    line=dict(color='#F06A6A', dash='dash')\n",
    ")\n",
    "\n",
    "data = [trace1,trace2]\n",
    "\n",
    "layout = go.Layout(\n",
    "    title= 'TOP 1 '+ fnl_pd.loc[min_var].title + ' id' +  min_var + ': Number Of requests',\n",
    "    xaxis=dict(\n",
    "        title='date',\n",
    "        titlefont=dict(\n",
    "            family='Courier New, monospace',\n",
    "            size=18,\n",
    "            color='#7f7f7f'\n",
    "        )\n",
    "    ),\n",
    "    yaxis=dict(\n",
    "        title='number',\n",
    "        titlefont=dict(\n",
    "            family='Courier New, monospace',\n",
    "            size=18,\n",
    "            color='#7f7f7f'\n",
    "        )\n",
    "    )\n",
    ")\n",
    "\n",
    "fig = go.Figure(data=data, layout=layout)\n",
    "plot = iplot(fig)"
   ]
  },
  {
   "cell_type": "code",
   "execution_count": 59,
   "metadata": {},
   "outputs": [],
   "source": [
    "top2_id = fnl_pd.index[1]"
   ]
  },
  {
   "cell_type": "code",
   "execution_count": 60,
   "metadata": {},
   "outputs": [],
   "source": [
    "ds_top2 = ds.filter(ds.page_id == top2_id).toPandas()"
   ]
  },
  {
   "cell_type": "code",
   "execution_count": 61,
   "metadata": {},
   "outputs": [],
   "source": [
    "ds_top2['date'] = pd.to_datetime(ds_top2['date'])"
   ]
  },
  {
   "cell_type": "code",
   "execution_count": 62,
   "metadata": {},
   "outputs": [],
   "source": [
    "ds_top2.sort_values(by='date',inplace=True)"
   ]
  },
  {
   "cell_type": "code",
   "execution_count": 63,
   "metadata": {},
   "outputs": [
    {
     "data": {
      "text/html": [
       "<div>\n",
       "<style scoped>\n",
       "    .dataframe tbody tr th:only-of-type {\n",
       "        vertical-align: middle;\n",
       "    }\n",
       "\n",
       "    .dataframe tbody tr th {\n",
       "        vertical-align: top;\n",
       "    }\n",
       "\n",
       "    .dataframe thead th {\n",
       "        text-align: right;\n",
       "    }\n",
       "</style>\n",
       "<table border=\"1\" class=\"dataframe\">\n",
       "  <thead>\n",
       "    <tr style=\"text-align: right;\">\n",
       "      <th></th>\n",
       "      <th>page_id</th>\n",
       "      <th>date</th>\n",
       "      <th>requests</th>\n",
       "    </tr>\n",
       "  </thead>\n",
       "  <tbody>\n",
       "    <tr>\n",
       "      <th>20</th>\n",
       "      <td>2560908</td>\n",
       "      <td>2018-06-01</td>\n",
       "      <td>111</td>\n",
       "    </tr>\n",
       "    <tr>\n",
       "      <th>34</th>\n",
       "      <td>2560908</td>\n",
       "      <td>2018-06-02</td>\n",
       "      <td>137</td>\n",
       "    </tr>\n",
       "    <tr>\n",
       "      <th>6</th>\n",
       "      <td>2560908</td>\n",
       "      <td>2018-06-03</td>\n",
       "      <td>164</td>\n",
       "    </tr>\n",
       "    <tr>\n",
       "      <th>22</th>\n",
       "      <td>2560908</td>\n",
       "      <td>2018-06-04</td>\n",
       "      <td>124</td>\n",
       "    </tr>\n",
       "    <tr>\n",
       "      <th>15</th>\n",
       "      <td>2560908</td>\n",
       "      <td>2018-06-05</td>\n",
       "      <td>132</td>\n",
       "    </tr>\n",
       "  </tbody>\n",
       "</table>\n",
       "</div>"
      ],
      "text/plain": [
       "    page_id       date  requests\n",
       "20  2560908 2018-06-01       111\n",
       "34  2560908 2018-06-02       137\n",
       "6   2560908 2018-06-03       164\n",
       "22  2560908 2018-06-04       124\n",
       "15  2560908 2018-06-05       132"
      ]
     },
     "execution_count": 63,
     "metadata": {},
     "output_type": "execute_result"
    }
   ],
   "source": [
    "ds_top2.head()"
   ]
  },
  {
   "cell_type": "code",
   "execution_count": 64,
   "metadata": {},
   "outputs": [],
   "source": [
    "ds_top2 = ds_top2.set_index(ds_top2.date)"
   ]
  },
  {
   "cell_type": "code",
   "execution_count": 65,
   "metadata": {},
   "outputs": [
    {
     "data": {
      "application/vnd.plotly.v1+json": {
       "data": [
        {
         "name": "requests",
         "type": "scatter",
         "x": [
          "2018-06-01",
          "2018-06-02",
          "2018-06-03",
          "2018-06-04",
          "2018-06-05",
          "2018-06-06",
          "2018-06-07",
          "2018-06-08",
          "2018-06-09",
          "2018-06-10",
          "2018-06-11",
          "2018-06-12",
          "2018-06-13",
          "2018-06-14",
          "2018-06-15",
          "2018-06-16",
          "2018-06-17",
          "2018-06-18",
          "2018-06-19",
          "2018-06-20",
          "2018-06-21",
          "2018-06-22",
          "2018-06-23",
          "2018-06-24",
          "2018-06-25",
          "2018-06-26",
          "2018-06-27",
          "2018-06-28",
          "2018-06-29",
          "2018-06-30",
          "2018-07-01",
          "2018-07-02",
          "2018-07-03",
          "2018-07-04",
          "2018-07-05",
          "2018-07-06",
          "2018-07-07",
          "2018-07-08",
          "2018-07-09",
          "2018-07-10",
          "2018-07-11",
          "2018-07-12",
          "2018-07-13",
          "2018-07-14",
          "2018-07-15",
          "2018-07-16",
          "2018-07-17",
          "2018-07-18",
          "2018-07-19",
          "2018-07-20",
          "2018-07-21",
          "2018-07-22",
          "2018-07-23",
          "2018-07-24",
          "2018-07-25",
          "2018-07-26",
          "2018-07-27",
          "2018-07-28",
          "2018-07-29",
          "2018-07-30",
          "2018-07-31"
         ],
         "y": [
          111,
          137,
          164,
          124,
          132,
          114,
          133,
          109,
          111,
          139,
          144,
          148,
          105,
          129,
          113,
          122,
          125,
          109,
          104,
          70,
          98,
          93,
          127,
          128,
          106,
          104,
          101,
          120,
          114,
          131,
          131,
          100,
          95,
          106,
          89,
          86,
          95,
          88,
          108,
          84,
          102,
          123,
          113,
          162,
          121,
          104,
          106,
          105,
          110,
          91,
          87,
          106,
          105,
          90,
          104,
          95,
          76,
          91,
          108,
          105,
          95
         ]
        },
        {
         "line": {
          "color": "#F06A6A",
          "dash": "dash"
         },
         "name": "mean",
         "type": "scatter",
         "x": [
          "2018-06-01",
          "2018-06-02",
          "2018-06-03",
          "2018-06-04",
          "2018-06-05",
          "2018-06-06",
          "2018-06-07",
          "2018-06-08",
          "2018-06-09",
          "2018-06-10",
          "2018-06-11",
          "2018-06-12",
          "2018-06-13",
          "2018-06-14",
          "2018-06-15",
          "2018-06-16",
          "2018-06-17",
          "2018-06-18",
          "2018-06-19",
          "2018-06-20",
          "2018-06-21",
          "2018-06-22",
          "2018-06-23",
          "2018-06-24",
          "2018-06-25",
          "2018-06-26",
          "2018-06-27",
          "2018-06-28",
          "2018-06-29",
          "2018-06-30",
          "2018-07-01",
          "2018-07-02",
          "2018-07-03",
          "2018-07-04",
          "2018-07-05",
          "2018-07-06",
          "2018-07-07",
          "2018-07-08",
          "2018-07-09",
          "2018-07-10",
          "2018-07-11",
          "2018-07-12",
          "2018-07-13",
          "2018-07-14",
          "2018-07-15",
          "2018-07-16",
          "2018-07-17",
          "2018-07-18",
          "2018-07-19",
          "2018-07-20",
          "2018-07-21",
          "2018-07-22",
          "2018-07-23",
          "2018-07-24",
          "2018-07-25",
          "2018-07-26",
          "2018-07-27",
          "2018-07-28",
          "2018-07-29",
          "2018-07-30",
          "2018-07-31"
         ],
         "y": [
          110.59016393442623,
          110.59016393442623,
          110.59016393442623,
          110.59016393442623,
          110.59016393442623,
          110.59016393442623,
          110.59016393442623,
          110.59016393442623,
          110.59016393442623,
          110.59016393442623,
          110.59016393442623,
          110.59016393442623,
          110.59016393442623,
          110.59016393442623,
          110.59016393442623,
          110.59016393442623,
          110.59016393442623,
          110.59016393442623,
          110.59016393442623,
          110.59016393442623,
          110.59016393442623,
          110.59016393442623,
          110.59016393442623,
          110.59016393442623,
          110.59016393442623,
          110.59016393442623,
          110.59016393442623,
          110.59016393442623,
          110.59016393442623,
          110.59016393442623,
          110.59016393442623,
          110.59016393442623,
          110.59016393442623,
          110.59016393442623,
          110.59016393442623,
          110.59016393442623,
          110.59016393442623,
          110.59016393442623,
          110.59016393442623,
          110.59016393442623,
          110.59016393442623,
          110.59016393442623,
          110.59016393442623,
          110.59016393442623,
          110.59016393442623,
          110.59016393442623,
          110.59016393442623,
          110.59016393442623,
          110.59016393442623,
          110.59016393442623,
          110.59016393442623,
          110.59016393442623,
          110.59016393442623,
          110.59016393442623,
          110.59016393442623,
          110.59016393442623,
          110.59016393442623,
          110.59016393442623,
          110.59016393442623,
          110.59016393442623,
          110.59016393442623
         ]
        }
       ],
       "layout": {
        "title": "TOP 2 Кіновсесвіт_Marvel id2560908: Number Of requests",
        "xaxis": {
         "title": "date",
         "titlefont": {
          "color": "#7f7f7f",
          "family": "Courier New, monospace",
          "size": 18
         }
        },
        "yaxis": {
         "title": "number",
         "titlefont": {
          "color": "#7f7f7f",
          "family": "Courier New, monospace",
          "size": 18
         }
        }
       }
      },
      "text/html": [
       "<div id=\"b094f3d9-fbe5-4306-8ba2-db97c8f16f2c\" style=\"height: 525px; width: 100%;\" class=\"plotly-graph-div\"></div><script type=\"text/javascript\">require([\"plotly\"], function(Plotly) { window.PLOTLYENV=window.PLOTLYENV || {};window.PLOTLYENV.BASE_URL=\"https://plot.ly\";Plotly.newPlot(\"b094f3d9-fbe5-4306-8ba2-db97c8f16f2c\", [{\"x\": [\"2018-06-01\", \"2018-06-02\", \"2018-06-03\", \"2018-06-04\", \"2018-06-05\", \"2018-06-06\", \"2018-06-07\", \"2018-06-08\", \"2018-06-09\", \"2018-06-10\", \"2018-06-11\", \"2018-06-12\", \"2018-06-13\", \"2018-06-14\", \"2018-06-15\", \"2018-06-16\", \"2018-06-17\", \"2018-06-18\", \"2018-06-19\", \"2018-06-20\", \"2018-06-21\", \"2018-06-22\", \"2018-06-23\", \"2018-06-24\", \"2018-06-25\", \"2018-06-26\", \"2018-06-27\", \"2018-06-28\", \"2018-06-29\", \"2018-06-30\", \"2018-07-01\", \"2018-07-02\", \"2018-07-03\", \"2018-07-04\", \"2018-07-05\", \"2018-07-06\", \"2018-07-07\", \"2018-07-08\", \"2018-07-09\", \"2018-07-10\", \"2018-07-11\", \"2018-07-12\", \"2018-07-13\", \"2018-07-14\", \"2018-07-15\", \"2018-07-16\", \"2018-07-17\", \"2018-07-18\", \"2018-07-19\", \"2018-07-20\", \"2018-07-21\", \"2018-07-22\", \"2018-07-23\", \"2018-07-24\", \"2018-07-25\", \"2018-07-26\", \"2018-07-27\", \"2018-07-28\", \"2018-07-29\", \"2018-07-30\", \"2018-07-31\"], \"type\": \"scatter\", \"y\": [111, 137, 164, 124, 132, 114, 133, 109, 111, 139, 144, 148, 105, 129, 113, 122, 125, 109, 104, 70, 98, 93, 127, 128, 106, 104, 101, 120, 114, 131, 131, 100, 95, 106, 89, 86, 95, 88, 108, 84, 102, 123, 113, 162, 121, 104, 106, 105, 110, 91, 87, 106, 105, 90, 104, 95, 76, 91, 108, 105, 95], \"name\": \"requests\"}, {\"line\": {\"color\": \"#F06A6A\", \"dash\": \"dash\"}, \"type\": \"scatter\", \"x\": [\"2018-06-01\", \"2018-06-02\", \"2018-06-03\", \"2018-06-04\", \"2018-06-05\", \"2018-06-06\", \"2018-06-07\", \"2018-06-08\", \"2018-06-09\", \"2018-06-10\", \"2018-06-11\", \"2018-06-12\", \"2018-06-13\", \"2018-06-14\", \"2018-06-15\", \"2018-06-16\", \"2018-06-17\", \"2018-06-18\", \"2018-06-19\", \"2018-06-20\", \"2018-06-21\", \"2018-06-22\", \"2018-06-23\", \"2018-06-24\", \"2018-06-25\", \"2018-06-26\", \"2018-06-27\", \"2018-06-28\", \"2018-06-29\", \"2018-06-30\", \"2018-07-01\", \"2018-07-02\", \"2018-07-03\", \"2018-07-04\", \"2018-07-05\", \"2018-07-06\", \"2018-07-07\", \"2018-07-08\", \"2018-07-09\", \"2018-07-10\", \"2018-07-11\", \"2018-07-12\", \"2018-07-13\", \"2018-07-14\", \"2018-07-15\", \"2018-07-16\", \"2018-07-17\", \"2018-07-18\", \"2018-07-19\", \"2018-07-20\", \"2018-07-21\", \"2018-07-22\", \"2018-07-23\", \"2018-07-24\", \"2018-07-25\", \"2018-07-26\", \"2018-07-27\", \"2018-07-28\", \"2018-07-29\", \"2018-07-30\", \"2018-07-31\"], \"y\": [110.59016393442623, 110.59016393442623, 110.59016393442623, 110.59016393442623, 110.59016393442623, 110.59016393442623, 110.59016393442623, 110.59016393442623, 110.59016393442623, 110.59016393442623, 110.59016393442623, 110.59016393442623, 110.59016393442623, 110.59016393442623, 110.59016393442623, 110.59016393442623, 110.59016393442623, 110.59016393442623, 110.59016393442623, 110.59016393442623, 110.59016393442623, 110.59016393442623, 110.59016393442623, 110.59016393442623, 110.59016393442623, 110.59016393442623, 110.59016393442623, 110.59016393442623, 110.59016393442623, 110.59016393442623, 110.59016393442623, 110.59016393442623, 110.59016393442623, 110.59016393442623, 110.59016393442623, 110.59016393442623, 110.59016393442623, 110.59016393442623, 110.59016393442623, 110.59016393442623, 110.59016393442623, 110.59016393442623, 110.59016393442623, 110.59016393442623, 110.59016393442623, 110.59016393442623, 110.59016393442623, 110.59016393442623, 110.59016393442623, 110.59016393442623, 110.59016393442623, 110.59016393442623, 110.59016393442623, 110.59016393442623, 110.59016393442623, 110.59016393442623, 110.59016393442623, 110.59016393442623, 110.59016393442623, 110.59016393442623, 110.59016393442623], \"name\": \"mean\"}], {\"title\": \"TOP 2 \\u041a\\u0456\\u043d\\u043e\\u0432\\u0441\\u0435\\u0441\\u0432\\u0456\\u0442_Marvel id2560908: Number Of requests\", \"yaxis\": {\"titlefont\": {\"size\": 18, \"color\": \"#7f7f7f\", \"family\": \"Courier New, monospace\"}, \"title\": \"number\"}, \"xaxis\": {\"titlefont\": {\"size\": 18, \"color\": \"#7f7f7f\", \"family\": \"Courier New, monospace\"}, \"title\": \"date\"}}, {\"linkText\": \"Export to plot.ly\", \"showLink\": true})});</script>"
      ],
      "text/vnd.plotly.v1+html": [
       "<div id=\"b094f3d9-fbe5-4306-8ba2-db97c8f16f2c\" style=\"height: 525px; width: 100%;\" class=\"plotly-graph-div\"></div><script type=\"text/javascript\">require([\"plotly\"], function(Plotly) { window.PLOTLYENV=window.PLOTLYENV || {};window.PLOTLYENV.BASE_URL=\"https://plot.ly\";Plotly.newPlot(\"b094f3d9-fbe5-4306-8ba2-db97c8f16f2c\", [{\"x\": [\"2018-06-01\", \"2018-06-02\", \"2018-06-03\", \"2018-06-04\", \"2018-06-05\", \"2018-06-06\", \"2018-06-07\", \"2018-06-08\", \"2018-06-09\", \"2018-06-10\", \"2018-06-11\", \"2018-06-12\", \"2018-06-13\", \"2018-06-14\", \"2018-06-15\", \"2018-06-16\", \"2018-06-17\", \"2018-06-18\", \"2018-06-19\", \"2018-06-20\", \"2018-06-21\", \"2018-06-22\", \"2018-06-23\", \"2018-06-24\", \"2018-06-25\", \"2018-06-26\", \"2018-06-27\", \"2018-06-28\", \"2018-06-29\", \"2018-06-30\", \"2018-07-01\", \"2018-07-02\", \"2018-07-03\", \"2018-07-04\", \"2018-07-05\", \"2018-07-06\", \"2018-07-07\", \"2018-07-08\", \"2018-07-09\", \"2018-07-10\", \"2018-07-11\", \"2018-07-12\", \"2018-07-13\", \"2018-07-14\", \"2018-07-15\", \"2018-07-16\", \"2018-07-17\", \"2018-07-18\", \"2018-07-19\", \"2018-07-20\", \"2018-07-21\", \"2018-07-22\", \"2018-07-23\", \"2018-07-24\", \"2018-07-25\", \"2018-07-26\", \"2018-07-27\", \"2018-07-28\", \"2018-07-29\", \"2018-07-30\", \"2018-07-31\"], \"type\": \"scatter\", \"y\": [111, 137, 164, 124, 132, 114, 133, 109, 111, 139, 144, 148, 105, 129, 113, 122, 125, 109, 104, 70, 98, 93, 127, 128, 106, 104, 101, 120, 114, 131, 131, 100, 95, 106, 89, 86, 95, 88, 108, 84, 102, 123, 113, 162, 121, 104, 106, 105, 110, 91, 87, 106, 105, 90, 104, 95, 76, 91, 108, 105, 95], \"name\": \"requests\"}, {\"line\": {\"color\": \"#F06A6A\", \"dash\": \"dash\"}, \"type\": \"scatter\", \"x\": [\"2018-06-01\", \"2018-06-02\", \"2018-06-03\", \"2018-06-04\", \"2018-06-05\", \"2018-06-06\", \"2018-06-07\", \"2018-06-08\", \"2018-06-09\", \"2018-06-10\", \"2018-06-11\", \"2018-06-12\", \"2018-06-13\", \"2018-06-14\", \"2018-06-15\", \"2018-06-16\", \"2018-06-17\", \"2018-06-18\", \"2018-06-19\", \"2018-06-20\", \"2018-06-21\", \"2018-06-22\", \"2018-06-23\", \"2018-06-24\", \"2018-06-25\", \"2018-06-26\", \"2018-06-27\", \"2018-06-28\", \"2018-06-29\", \"2018-06-30\", \"2018-07-01\", \"2018-07-02\", \"2018-07-03\", \"2018-07-04\", \"2018-07-05\", \"2018-07-06\", \"2018-07-07\", \"2018-07-08\", \"2018-07-09\", \"2018-07-10\", \"2018-07-11\", \"2018-07-12\", \"2018-07-13\", \"2018-07-14\", \"2018-07-15\", \"2018-07-16\", \"2018-07-17\", \"2018-07-18\", \"2018-07-19\", \"2018-07-20\", \"2018-07-21\", \"2018-07-22\", \"2018-07-23\", \"2018-07-24\", \"2018-07-25\", \"2018-07-26\", \"2018-07-27\", \"2018-07-28\", \"2018-07-29\", \"2018-07-30\", \"2018-07-31\"], \"y\": [110.59016393442623, 110.59016393442623, 110.59016393442623, 110.59016393442623, 110.59016393442623, 110.59016393442623, 110.59016393442623, 110.59016393442623, 110.59016393442623, 110.59016393442623, 110.59016393442623, 110.59016393442623, 110.59016393442623, 110.59016393442623, 110.59016393442623, 110.59016393442623, 110.59016393442623, 110.59016393442623, 110.59016393442623, 110.59016393442623, 110.59016393442623, 110.59016393442623, 110.59016393442623, 110.59016393442623, 110.59016393442623, 110.59016393442623, 110.59016393442623, 110.59016393442623, 110.59016393442623, 110.59016393442623, 110.59016393442623, 110.59016393442623, 110.59016393442623, 110.59016393442623, 110.59016393442623, 110.59016393442623, 110.59016393442623, 110.59016393442623, 110.59016393442623, 110.59016393442623, 110.59016393442623, 110.59016393442623, 110.59016393442623, 110.59016393442623, 110.59016393442623, 110.59016393442623, 110.59016393442623, 110.59016393442623, 110.59016393442623, 110.59016393442623, 110.59016393442623, 110.59016393442623, 110.59016393442623, 110.59016393442623, 110.59016393442623, 110.59016393442623, 110.59016393442623, 110.59016393442623, 110.59016393442623, 110.59016393442623, 110.59016393442623], \"name\": \"mean\"}], {\"title\": \"TOP 2 \\u041a\\u0456\\u043d\\u043e\\u0432\\u0441\\u0435\\u0441\\u0432\\u0456\\u0442_Marvel id2560908: Number Of requests\", \"yaxis\": {\"titlefont\": {\"size\": 18, \"color\": \"#7f7f7f\", \"family\": \"Courier New, monospace\"}, \"title\": \"number\"}, \"xaxis\": {\"titlefont\": {\"size\": 18, \"color\": \"#7f7f7f\", \"family\": \"Courier New, monospace\"}, \"title\": \"date\"}}, {\"linkText\": \"Export to plot.ly\", \"showLink\": true})});</script>"
      ]
     },
     "metadata": {},
     "output_type": "display_data"
    }
   ],
   "source": [
    "trace1 = go.Scatter(\n",
    "    x=ds_top2.index,\n",
    "    y=ds_top2['requests'],\n",
    "    name='requests'\n",
    ")\n",
    "\n",
    "trace2 = go.Scatter(\n",
    "    x=ds_top2.index,\n",
    "    y=[ds_top2['requests'].mean()]*len(ds_top2.index),\n",
    "    name='mean',\n",
    "    line=dict(color='#F06A6A', dash='dash')\n",
    ")\n",
    "\n",
    "data = [trace1,trace2]\n",
    "\n",
    "layout = go.Layout(\n",
    "    title= 'TOP 2 '+ fnl_pd.loc[top2_id].title + ' id' +  top2_id + ': Number Of requests',\n",
    "    xaxis=dict(\n",
    "        title='date',\n",
    "        titlefont=dict(\n",
    "            family='Courier New, monospace',\n",
    "            size=18,\n",
    "            color='#7f7f7f'\n",
    "        )\n",
    "    ),\n",
    "    yaxis=dict(\n",
    "        title='number',\n",
    "        titlefont=dict(\n",
    "            family='Courier New, monospace',\n",
    "            size=18,\n",
    "            color='#7f7f7f'\n",
    "        )\n",
    "    )\n",
    ")\n",
    "\n",
    "fig = go.Figure(data=data, layout=layout)\n",
    "plot = iplot(fig)"
   ]
  },
  {
   "cell_type": "code",
   "execution_count": null,
   "metadata": {},
   "outputs": [],
   "source": []
  }
 ],
 "metadata": {
  "kernelspec": {
   "display_name": "Python 3",
   "language": "python",
   "name": "python3"
  },
  "language_info": {
   "codemirror_mode": {
    "name": "ipython",
    "version": 3
   },
   "file_extension": ".py",
   "mimetype": "text/x-python",
   "name": "python",
   "nbconvert_exporter": "python",
   "pygments_lexer": "ipython3",
   "version": "3.5.2"
  }
 },
 "nbformat": 4,
 "nbformat_minor": 2
}
